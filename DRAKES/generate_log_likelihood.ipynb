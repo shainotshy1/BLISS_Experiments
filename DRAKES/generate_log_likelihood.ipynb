{
 "cells": [
  {
   "cell_type": "code",
   "execution_count": 1,
   "metadata": {},
   "outputs": [],
   "source": [
    "import transformers\n",
    "import os\n",
    "import torch\n",
    "import numpy as np\n",
    "import pandas as pd\n",
    "from transformers import AutoTokenizer\n",
    "from transformers import GPT2LMHeadModel"
   ]
  },
  {
   "cell_type": "code",
   "execution_count": 2,
   "metadata": {},
   "outputs": [],
   "source": [
    "os.environ[\"TOKENIZERS_PARALLELISM\"] = \"false\"\n",
    "gpu_idx = 1\n",
    "device = torch.device('cuda' if torch.cuda.is_available() else 'cpu', gpu_idx)\n",
    "tokenizer = AutoTokenizer.from_pretrained('nferruz/ProtGPT2')\n",
    "model = GPT2LMHeadModel.from_pretrained('nferruz/ProtGPT2').to(device) "
   ]
  },
  {
   "cell_type": "code",
   "execution_count": 7,
   "metadata": {},
   "outputs": [],
   "source": [
    "def protgpt_wrapper(samples):\n",
    "    ppls = []\n",
    "    for seq in samples:\n",
    "        out = tokenizer(seq, return_tensors=\"pt\")\n",
    "        input_ids = out.input_ids.cuda()\n",
    "\n",
    "        with torch.no_grad():\n",
    "            outputs = model(input_ids, labels=input_ids)\n",
    "\n",
    "        ppl = (outputs.loss * input_ids.shape[1]).item()\n",
    "        ppls.append(ppl)\n",
    "    \n",
    "    ppls = np.array(ppls)\n",
    "    return ppls\n",
    "\n",
    "def extract_ll_distr(df, seq_label):\n",
    "    sequences = df[seq_label]\n",
    "    return -1 * protgpt_wrapper(sequences)\n",
    "\n",
    "def extract_ll_directory(dir_name, seq_label):\n",
    "    for fn in os.listdir(dir_name):\n",
    "        file_path = os.path.join(dir_name, fn)\n",
    "        if fn.lower().endswith(\".csv\"):\n",
    "            try:\n",
    "                df = pd.read_csv(file_path, nrows=0)  # Read only the header\n",
    "                if 'loglikelihood' in df.columns: # Don't re-compute if already has loglikelihood\n",
    "                    print(f\"{fn} already processed - Skipping...\")\n",
    "                elif seq_label in df.columns:\n",
    "                    df = pd.read_csv(file_path)\n",
    "                    ll_distr = extract_ll_distr(df, seq_label)\n",
    "                    df['loglikelihood'] = ll_distr\n",
    "                    df.to_csv(file_path, index=False)\n",
    "            except Exception as e: \n",
    "                pass"
   ]
  },
  {
   "cell_type": "code",
   "execution_count": 4,
   "metadata": {},
   "outputs": [
    {
     "name": "stdout",
     "output_type": "stream",
     "text": [
      "original_new_10_0.5_0_results_merge.csv already processed - Skipping...\n",
      "original_old_10_0.5_0_results_merge.csv already processed - Skipping...\n"
     ]
    }
   ],
   "source": [
    "extract_ll_directory('data/baseline_data/distribution', 'seq')"
   ]
  },
  {
   "cell_type": "code",
   "execution_count": 5,
   "metadata": {},
   "outputs": [
    {
     "name": "stdout",
     "output_type": "stream",
     "text": [
      "original_old_10_0.5_0_results_merge_old_7JJK_scrmsd_beam_5_5.csv already processed - Skipping...\n",
      "original_old_10_0.5_0_results_merge_old_7JJK_beam_10_1.csv already processed - Skipping...\n",
      "original_new_10_0.5_0_results_merge_new_7JJK_scrmsd_beam_5_5.csv already processed - Skipping...\n",
      "original_new_10_0.5_0_results_merge_new_7JJK_scrmsd_beam_5_10.csv already processed - Skipping...\n",
      "original_new_10_0.5_0_results_merge_beam_10_1.csv already processed - Skipping...\n"
     ]
    }
   ],
   "source": [
    "extract_ll_directory('data/beam_data/distribution', 'seq')"
   ]
  },
  {
   "cell_type": "code",
   "execution_count": 6,
   "metadata": {},
   "outputs": [
    {
     "name": "stdout",
     "output_type": "stream",
     "text": [
      "original_new_10_0.5_0_results_merge_bon_10.csv already processed - Skipping...\n",
      "original_old_10_0.5_0_results_merge_old_7JJK_bon_10.csv already processed - Skipping...\n",
      "original_old_10_0.5_0_results_merge_old_7JJK_scrmsd_bon_5.csv already processed - Skipping...\n",
      "original_new_10_0.5_0_results_merge_new_7JJK_scrmsd_bon_5.csv already processed - Skipping...\n"
     ]
    }
   ],
   "source": [
    "extract_ll_directory('data/bon_data/distribution', 'seq')"
   ]
  }
 ],
 "metadata": {
  "kernelspec": {
   "display_name": "mf2",
   "language": "python",
   "name": "python3"
  },
  "language_info": {
   "codemirror_mode": {
    "name": "ipython",
    "version": 3
   },
   "file_extension": ".py",
   "mimetype": "text/x-python",
   "name": "python",
   "nbconvert_exporter": "python",
   "pygments_lexer": "ipython3",
   "version": "3.11.11"
  }
 },
 "nbformat": 4,
 "nbformat_minor": 2
}
