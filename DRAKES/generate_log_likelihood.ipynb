{
 "cells": [
  {
   "cell_type": "code",
   "execution_count": 1,
   "metadata": {},
   "outputs": [],
   "source": [
    "import os"
   ]
  },
  {
   "cell_type": "code",
   "execution_count": null,
   "metadata": {},
   "outputs": [
    {
     "name": "stdout",
     "output_type": "stream",
     "text": [
      "/cache/huggingface/hub\n",
      "~/my_huggingface_cache\n"
     ]
    }
   ],
   "source": [
    "print(os.environ.get('HF_HUB_CACHE'))\n",
    "os.environ['HF_HUB_CACHE'] = '~/my_huggingface_cache'\n",
    "print(os.environ.get('HF_HUB_CACHE'))"
   ]
  },
  {
   "cell_type": "code",
   "execution_count": 3,
   "metadata": {},
   "outputs": [
    {
     "name": "stderr",
     "output_type": "stream",
     "text": [
      "2025-03-24 20:43:33.104657: E external/local_xla/xla/stream_executor/cuda/cuda_fft.cc:477] Unable to register cuFFT factory: Attempting to register factory for plugin cuFFT when one has already been registered\n",
      "WARNING: All log messages before absl::InitializeLog() is called are written to STDERR\n",
      "E0000 00:00:1742874213.120684  393938 cuda_dnn.cc:8310] Unable to register cuDNN factory: Attempting to register factory for plugin cuDNN when one has already been registered\n",
      "E0000 00:00:1742874213.125528  393938 cuda_blas.cc:1418] Unable to register cuBLAS factory: Attempting to register factory for plugin cuBLAS when one has already been registered\n",
      "2025-03-24 20:43:33.144785: I tensorflow/core/platform/cpu_feature_guard.cc:210] This TensorFlow binary is optimized to use available CPU instructions in performance-critical operations.\n",
      "To enable the following instructions: AVX2 FMA, in other operations, rebuild TensorFlow with the appropriate compiler flags.\n"
     ]
    }
   ],
   "source": [
    "import transformers\n",
    "import torch\n",
    "import numpy as np\n",
    "import pandas as pd\n",
    "from transformers import AutoTokenizer\n",
    "from transformers import GPT2LMHeadModel"
   ]
  },
  {
   "cell_type": "code",
   "execution_count": 4,
   "metadata": {},
   "outputs": [],
   "source": [
    "os.environ[\"TOKENIZERS_PARALLELISM\"] = \"false\"\n",
    "device = torch.device('cuda' if torch.cuda.is_available() else 'cpu')\n",
    "tokenizer = AutoTokenizer.from_pretrained('nferruz/ProtGPT2', cache_dir=\"/home/shai/my_huggingface_cache\")\n",
    "model = GPT2LMHeadModel.from_pretrained('nferruz/ProtGPT2', cache_dir=\"/home/shai/my_huggingface_cache\").to(device) "
   ]
  },
  {
   "cell_type": "code",
   "execution_count": null,
   "metadata": {},
   "outputs": [],
   "source": [
    "def protgpt_wrapper(samples):\n",
    "    ppls = []\n",
    "    for seq in samples:\n",
    "        out = tokenizer(seq, return_tensors=\"pt\")\n",
    "        input_ids = out.input_ids.cuda()\n",
    "\n",
    "        with torch.no_grad():\n",
    "            outputs = model(input_ids, labels=input_ids)\n",
    "\n",
    "        ppl = (outputs.loss * input_ids.shape[1]).item()\n",
    "        ppls.append(ppl)\n",
    "    \n",
    "    ppls = np.array(ppls)\n",
    "    return ppls\n",
    "\n",
    "def extract_ll_distr(df, seq_label):\n",
    "    sequences = df[seq_label]\n",
    "    return -1 * protgpt_wrapper(sequences)"
   ]
  },
  {
   "cell_type": "code",
   "execution_count": 6,
   "metadata": {},
   "outputs": [],
   "source": [
    "pretrain_fn = 'data/baseline_data/distribution/original_old_10_0.5_0_results_merge.csv'\n",
    "df_pretrain = pd.read_csv(pretrain_fn)\n",
    "pretrain_ll = extract_ll_distr(df_pretrain, 'seq')"
   ]
  },
  {
   "cell_type": "code",
   "execution_count": null,
   "metadata": {},
   "outputs": [],
   "source": [
    "df_pretrain['loglikelihood'] = pretrain_ll\n",
    "df_pretrain.to_csv('test.csv', index=False)"
   ]
  },
  {
   "cell_type": "code",
   "execution_count": null,
   "metadata": {},
   "outputs": [],
   "source": [
    "drakes_fn = 'data/baseline_data/distribution/original_new_10_0.5_0_results_merge.csv'\n",
    "drakes_ll = extract_ll_distr(drakes_fn, 'seq')"
   ]
  }
 ],
 "metadata": {
  "kernelspec": {
   "display_name": "ml_bio",
   "language": "python",
   "name": "python3"
  },
  "language_info": {
   "codemirror_mode": {
    "name": "ipython",
    "version": 3
   },
   "file_extension": ".py",
   "mimetype": "text/x-python",
   "name": "python",
   "nbconvert_exporter": "python",
   "pygments_lexer": "ipython3",
   "version": "3.11.11"
  }
 },
 "nbformat": 4,
 "nbformat_minor": 2
}
