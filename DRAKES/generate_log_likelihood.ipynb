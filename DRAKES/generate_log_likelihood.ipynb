{
 "cells": [
  {
   "cell_type": "code",
   "execution_count": 1,
   "metadata": {},
   "outputs": [],
   "source": [
    "import os"
   ]
  },
  {
   "cell_type": "code",
   "execution_count": null,
   "metadata": {},
   "outputs": [
    {
     "name": "stdout",
     "output_type": "stream",
     "text": [
      "/cache/huggingface/hub\n",
      "~/my_huggingface_cache\n"
     ]
    }
   ],
   "source": [
    "print(os.environ.get('HF_HUB_CACHE'))\n",
    "os.environ['HF_HUB_CACHE'] = '~/my_huggingface_cache'\n",
    "print(os.environ.get('HF_HUB_CACHE'))"
   ]
  },
  {
   "cell_type": "code",
   "execution_count": 3,
   "metadata": {},
   "outputs": [
    {
     "name": "stderr",
     "output_type": "stream",
     "text": [
      "2025-03-24 20:43:33.104657: E external/local_xla/xla/stream_executor/cuda/cuda_fft.cc:477] Unable to register cuFFT factory: Attempting to register factory for plugin cuFFT when one has already been registered\n",
      "WARNING: All log messages before absl::InitializeLog() is called are written to STDERR\n",
      "E0000 00:00:1742874213.120684  393938 cuda_dnn.cc:8310] Unable to register cuDNN factory: Attempting to register factory for plugin cuDNN when one has already been registered\n",
      "E0000 00:00:1742874213.125528  393938 cuda_blas.cc:1418] Unable to register cuBLAS factory: Attempting to register factory for plugin cuBLAS when one has already been registered\n",
      "2025-03-24 20:43:33.144785: I tensorflow/core/platform/cpu_feature_guard.cc:210] This TensorFlow binary is optimized to use available CPU instructions in performance-critical operations.\n",
      "To enable the following instructions: AVX2 FMA, in other operations, rebuild TensorFlow with the appropriate compiler flags.\n"
     ]
    }
   ],
   "source": [
    "import transformers\n",
    "import torch\n",
    "import numpy as np\n",
    "import pandas as pd\n",
    "from transformers import AutoTokenizer\n",
    "from transformers import GPT2LMHeadModel"
   ]
  },
  {
   "cell_type": "code",
   "execution_count": 4,
   "metadata": {},
   "outputs": [],
   "source": [
    "os.environ[\"TOKENIZERS_PARALLELISM\"] = \"false\"\n",
    "device = torch.device('cuda' if torch.cuda.is_available() else 'cpu')\n",
    "tokenizer = AutoTokenizer.from_pretrained('nferruz/ProtGPT2', cache_dir=\"/home/shai/my_huggingface_cache\")\n",
    "model = GPT2LMHeadModel.from_pretrained('nferruz/ProtGPT2', cache_dir=\"/home/shai/my_huggingface_cache\").to(device) "
   ]
  },
  {
   "cell_type": "code",
   "execution_count": 19,
   "metadata": {},
   "outputs": [],
   "source": [
    "def protgpt_wrapper(samples):\n",
    "    ppls = []\n",
    "    for seq in samples:\n",
    "        out = tokenizer(seq, return_tensors=\"pt\")\n",
    "        input_ids = out.input_ids.cuda()\n",
    "\n",
    "        with torch.no_grad():\n",
    "            outputs = model(input_ids, labels=input_ids)\n",
    "\n",
    "        ppl = (outputs.loss * input_ids.shape[1]).item()\n",
    "        ppls.append(ppl)\n",
    "    \n",
    "    ppls = np.array(ppls)\n",
    "    return ppls\n",
    "\n",
    "def extract_ll_distr(df, seq_label):\n",
    "    sequences = df[seq_label]\n",
    "    return -1 * protgpt_wrapper(sequences)\n",
    "\n",
    "def extract_ll_directory(dir_name, seq_label):\n",
    "    for fn in os.listdir(dir_name):\n",
    "        file_path = os.path.join(dir_name, fn)\n",
    "        if fn.lower().endswith(\".csv\"):\n",
    "            try:\n",
    "                df = pd.read_csv(file_path, nrows=0)  # Read only the header\n",
    "                if 'loglikelihood' in df.columns: # Don't re-compute if already has loglikelihood\n",
    "                    print(f\"{fn} already processed - Skipping...\")\n",
    "                elif seq_label in df.columns:\n",
    "                    df = pd.read_csv(file_path)\n",
    "                    ll_distr = extract_ll_distr(df, seq_label)\n",
    "                    df['loglikelihood'] = ll_distr\n",
    "                    df.to_csv(file_path, index=False)\n",
    "            except Exception as e: \n",
    "                pass"
   ]
  },
  {
   "cell_type": "code",
   "execution_count": 23,
   "metadata": {},
   "outputs": [
    {
     "name": "stdout",
     "output_type": "stream",
     "text": [
      "original_new_10_0.5_0_results_merge.csv already processed - Skipping...\n",
      "original_old_10_0.5_0_results_merge.csv already processed - Skipping...\n"
     ]
    }
   ],
   "source": [
    "extract_ll_directory('data/baseline_data/distribution', 'seq')"
   ]
  },
  {
   "cell_type": "code",
   "execution_count": 24,
   "metadata": {},
   "outputs": [
    {
     "name": "stdout",
     "output_type": "stream",
     "text": [
      "original_old_10_0.5_0_results_merge_old_7JJK_beam_10_1.csv already processed - Skipping...\n",
      "original_new_10_0.5_0_results_merge_new_7JJK_scrmsd_beam_5_5.csv already processed - Skipping...\n",
      "original_new_10_0.5_0_results_merge_new_7JJK_scrmsd_beam_5_10.csv already processed - Skipping...\n",
      "original_new_10_0.5_0_results_merge_beam_10_1.csv already processed - Skipping...\n"
     ]
    }
   ],
   "source": [
    "extract_ll_directory('data/beam_data/distribution', 'seq')"
   ]
  },
  {
   "cell_type": "code",
   "execution_count": 25,
   "metadata": {},
   "outputs": [
    {
     "name": "stdout",
     "output_type": "stream",
     "text": [
      "original_new_10_0.5_0_results_merge_bon_10.csv already processed - Skipping...\n",
      "original_old_10_0.5_0_results_merge_old_7JJK_bon_10.csv already processed - Skipping...\n",
      "original_new_10_0.5_0_results_merge_new_7JJK_scrmsd_bon_5.csv already processed - Skipping...\n"
     ]
    }
   ],
   "source": [
    "extract_ll_directory('data/bon_data/distribution', 'seq')"
   ]
  }
 ],
 "metadata": {
  "kernelspec": {
   "display_name": "ml_bio",
   "language": "python",
   "name": "python3"
  },
  "language_info": {
   "codemirror_mode": {
    "name": "ipython",
    "version": 3
   },
   "file_extension": ".py",
   "mimetype": "text/x-python",
   "name": "python",
   "nbconvert_exporter": "python",
   "pygments_lexer": "ipython3",
   "version": "3.11.11"
  }
 },
 "nbformat": 4,
 "nbformat_minor": 2
}
